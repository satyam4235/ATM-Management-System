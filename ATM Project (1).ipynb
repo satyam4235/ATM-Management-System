{
 "cells": [
  {
   "cell_type": "code",
   "execution_count": 8,
   "id": "6440ac9c-e8ea-44e2-b443-ffcb03308384",
   "metadata": {},
   "outputs": [],
   "source": [
    "import datetime\n",
    "\n",
    "class Atm:\n",
    "    def __init__(self,name):\n",
    "        self.name = name\n",
    "        self.pin = self.create_Pin()\n",
    "        self.balance = 0\n",
    "        self.Transaction_history = []\n",
    "\n",
    "\n",
    "    def create_Pin(self):\n",
    "        pin = int(input(\"Enter a four digit pin: \"))\n",
    "        check = int(input(\"Renter your pin: \"))\n",
    "        while True:\n",
    "            if pin == check:\n",
    "                print(\"Your pin is created successfully!\")\n",
    "                return pin\n",
    "            else:\n",
    "                print(\"Your pin don't match! please try again!\")\n",
    "                pin = int(input(\"Enter a four digit pin: \"))\n",
    "                check = int(input(\"Renter your pin: \"))\n",
    "\n",
    "    def deposit(self):\n",
    "        check = int(input(\"Enter your pin no : \"))\n",
    "        if check == self.pin:\n",
    "            amount = float(input(\"Enter amount to deposit: \"))\n",
    "            if amount > 0:\n",
    "                self.balance += amount\n",
    "                print(f\"Amount deposited successfully. your account balance is: {self.balance}\")\n",
    "                self.Transaction_history.append({\n",
    "                    \"type\":\"Deposit\",\n",
    "                    \"amount\": amount,\n",
    "                    \"date_time\":datetime.datetime.now().strftime(\"%Y-%m-%d  %H:%M:%S\")})\n",
    "            else:\n",
    "                print(\"Invalid amount. please enter a positive number.\")\n",
    "        else:\n",
    "            print(\"Incorrect pin!\")\n",
    "        \n",
    "    def check_balance(self):\n",
    "        entered_pin = int(input(\"Enter your pin no : \"))\n",
    "        if entered_pin == self.pin:\n",
    "            print(f\"Your Account balance is :{self.balance}\")\n",
    "        else:\n",
    "            print(\"Incorrect pin!\")\n",
    "            \n",
    "    def withdraw(self):\n",
    "        cp = int(input(\"Enter your pin no : \"))\n",
    "        if cp == self.pin:\n",
    "            amount = float(input(\"Enter amount to Withdraw: \"))\n",
    "            if amount <= self.balance:\n",
    "                self.balance = self.balance - amount\n",
    "                print(f\"Amount withdrawn successfully. your account balance is: {self.balance}\")\n",
    "                self.Transaction_history.append({\n",
    "                    \"type\":\"Withdraw\",\n",
    "                    \"amount\": amount,\n",
    "                    \"date_time\":datetime.datetime.now().strftime(\"%Y-%m-%d  %H:%M:%S\")})\n",
    "            else:\n",
    "                print(\"Insufficient Balance!\")\n",
    "\n",
    "    def change_pin(self):\n",
    "        current_pin = int(input(\"Enter your current pin: \"))\n",
    "        if current_pin == self.pin:\n",
    "            new_pin = int(input(\"Enter a new four digit pin: \"))\n",
    "            confirm_pin = int(input(\"Re-enter your new pin: \"))\n",
    "            if new_pin == confirm_pin:\n",
    "                self.pin = new_pin\n",
    "                print(\"Your pin has been changed successfully.\")\n",
    "            else:\n",
    "                print(\"New pins do not match!\")\n",
    "        else:\n",
    "            print(\"Incorrect current pin!\")\n",
    "\n",
    "    def show_history(self):\n",
    "        print(\"\\n-------Transaction History---------\")\n",
    "        if not self.Transaction_history:\n",
    "            print(\"No Transaction history\")\n",
    "        else:\n",
    "            for t in self.Transaction_history:\n",
    "                print(f\"{t[\"date_time\"]} | {t[\"type\"]}    | Rs.{t[\"amount\"]}\")\n",
    "        print(\"-----------------------------------------\")\n",
    "        \n",
    "                \n"
   ]
  },
  {
   "cell_type": "code",
   "execution_count": 2,
   "id": "4a0cd262-1d0a-447f-955d-5f9677af8196",
   "metadata": {},
   "outputs": [
    {
     "name": "stdin",
     "output_type": "stream",
     "text": [
      "Enter a four digit pin:  4235\n",
      "Renter your pin:  4235\n"
     ]
    },
    {
     "name": "stdout",
     "output_type": "stream",
     "text": [
      "Your pin is created successfully!\n"
     ]
    }
   ],
   "source": [
    "RossGeller = Atm(\"Ross Geller\")"
   ]
  },
  {
   "cell_type": "code",
   "execution_count": 3,
   "id": "96664524-b12f-49a0-92e0-2f3fad95d9f1",
   "metadata": {},
   "outputs": [
    {
     "name": "stdin",
     "output_type": "stream",
     "text": [
      "Enter your pin no :  4235\n",
      "Enter amount to deposit:  5000\n"
     ]
    },
    {
     "name": "stdout",
     "output_type": "stream",
     "text": [
      "Amount deposited successfully. your account balance is: 5000.0\n"
     ]
    }
   ],
   "source": [
    "RossGeller.deposit()"
   ]
  },
  {
   "cell_type": "code",
   "execution_count": 4,
   "id": "9bb7f641-abf5-480f-8276-e2c6ca951d11",
   "metadata": {},
   "outputs": [
    {
     "name": "stdin",
     "output_type": "stream",
     "text": [
      "Enter your pin no :  4235\n"
     ]
    },
    {
     "name": "stdout",
     "output_type": "stream",
     "text": [
      "Your Account balance is :5000.0\n"
     ]
    }
   ],
   "source": [
    "RossGeller.check_balance()"
   ]
  },
  {
   "cell_type": "code",
   "execution_count": 5,
   "id": "6d93110b-f578-478c-95ea-8c2023f16c8c",
   "metadata": {},
   "outputs": [
    {
     "name": "stdin",
     "output_type": "stream",
     "text": [
      "Enter your pin no :  4235\n",
      "Enter amount to Withdraw:  2000\n"
     ]
    },
    {
     "name": "stdout",
     "output_type": "stream",
     "text": [
      "Amount withdrawn successfully. your account balance is: 3000.0\n"
     ]
    }
   ],
   "source": [
    "RossGeller.withdraw()"
   ]
  },
  {
   "cell_type": "code",
   "execution_count": 6,
   "id": "0739ea76-8226-4b7f-9988-883f6bb09006",
   "metadata": {},
   "outputs": [
    {
     "name": "stdin",
     "output_type": "stream",
     "text": [
      "Enter your current pin:  4235\n",
      "Enter a new four digit pin:  5656\n",
      "Re-enter your new pin:  5656\n"
     ]
    },
    {
     "name": "stdout",
     "output_type": "stream",
     "text": [
      "Your pin has been changed successfully.\n"
     ]
    }
   ],
   "source": [
    "RossGeller.change_pin()"
   ]
  },
  {
   "cell_type": "code",
   "execution_count": 10,
   "id": "83ac3b97-2322-456a-9e9c-8039881a27bb",
   "metadata": {},
   "outputs": [
    {
     "name": "stdout",
     "output_type": "stream",
     "text": [
      "\n",
      "-------Transaction History---------\n",
      "2025-09-19  23:45:50 | Depsit    | Rs.5000.0\n",
      "2025-09-19  23:46:23 | Withdraw    | Rs.2000.0\n",
      "-----------------------------------------\n"
     ]
    }
   ],
   "source": [
    "RossGeller.show_history()"
   ]
  },
  {
   "cell_type": "code",
   "execution_count": null,
   "id": "2d72ac0e-c639-42fe-b64e-82ee18a422b2",
   "metadata": {},
   "outputs": [],
   "source": []
  }
 ],
 "metadata": {
  "kernelspec": {
   "display_name": "Python 3 (ipykernel)",
   "language": "python",
   "name": "python3"
  },
  "language_info": {
   "codemirror_mode": {
    "name": "ipython",
    "version": 3
   },
   "file_extension": ".py",
   "mimetype": "text/x-python",
   "name": "python",
   "nbconvert_exporter": "python",
   "pygments_lexer": "ipython3",
   "version": "3.13.5"
  }
 },
 "nbformat": 4,
 "nbformat_minor": 5
}
